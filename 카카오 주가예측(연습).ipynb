{
 "cells": [
  {
   "cell_type": "code",
   "execution_count": 2,
   "metadata": {},
   "outputs": [
    {
     "name": "stdout",
     "output_type": "stream",
     "text": [
      "         Date      Open      High       Low     Close      Adj Close  \\\n",
      "0  2015-11-30  126500.0  131000.0  119400.0  120600.0  120038.468750   \n",
      "1  2015-12-01  120800.0  121700.0  118300.0  119400.0  118844.054688   \n",
      "2  2015-12-02  121400.0  123600.0  119800.0  119800.0  119242.195313   \n",
      "3  2015-12-03  116300.0  121100.0  116300.0  120800.0  120237.539063   \n",
      "4  2015-12-04  119300.0  121300.0  118300.0  118300.0  117749.179688   \n",
      "\n",
      "      Volume  \n",
      "0  2931459.0  \n",
      "1   631065.0  \n",
      "2   602515.0  \n",
      "3   540467.0  \n",
      "4   291835.0  \n",
      "[[125200. 120000. 121700. ...  96550.  92800.  94100.]\n",
      " [120000. 121700. 118700. ...  92800.  94100.  93600.]\n",
      " [121700. 118700. 119800. ...  94100.  93600.  93450.]\n",
      " ...\n",
      " [383500. 390250. 379750. ... 365000. 367000. 371750.]\n",
      " [390250. 379750. 373500. ... 367000. 371750. 371750.]\n",
      " [379750. 373500. 377000. ... 371750. 371750. 370500.]]\n",
      "(1169, 51)\n",
      "(1052, 50)\n",
      "(1052, 50, 1)\n",
      "117 50\n",
      "(1052, 50, 1) (117, 50, 1) (1052,) (117,)\n",
      "Model: \"sequential\"\n",
      "_________________________________________________________________\n",
      "Layer (type)                 Output Shape              Param #   \n",
      "=================================================================\n",
      "lstm (LSTM)                  (None, 50, 50)            10400     \n",
      "_________________________________________________________________\n",
      "lstm_1 (LSTM)                (None, 64)                29440     \n",
      "_________________________________________________________________\n",
      "dense (Dense)                (None, 1)                 65        \n",
      "=================================================================\n",
      "Total params: 39,905\n",
      "Trainable params: 39,905\n",
      "Non-trainable params: 0\n",
      "_________________________________________________________________\n",
      "None\n",
      "Epoch 1/3\n",
      "106/106 [==============================] - 6s 58ms/step - loss: 0.0085 - val_loss: 0.0080\n",
      "Epoch 2/3\n",
      "106/106 [==============================] - 4s 38ms/step - loss: 0.0063 - val_loss: 0.0070\n",
      "Epoch 3/3\n",
      "106/106 [==============================] - 4s 36ms/step - loss: 0.0061 - val_loss: 0.0055\n"
     ]
    },
    {
     "data": {
      "text/plain": [
       "<tensorflow.python.keras.callbacks.History at 0x18cc3624588>"
      ]
     },
     "execution_count": 2,
     "metadata": {},
     "output_type": "execute_result"
    }
   ],
   "source": [
    "import pandas as pd \n",
    "import numpy as np \n",
    "import matplotlib.pyplot as plt \n",
    "from keras.models import Sequential\n",
    "from keras.layers import LSTM,Dropout,Dense,Activation\n",
    "\n",
    "import datetime\n",
    "\n",
    "\n",
    "data = pd.read_csv('035720.KS.csv') # 카카오 주식데이터 불러오기\n",
    "data = data.dropna(axis=0) # 결측치 제거\n",
    "print(data.head()) # \n",
    "\n",
    "high_prices = data['High'].values  # 고가\n",
    "low_prices = data['Low'].values # 저가 \n",
    "mid_prices = (high_prices + low_prices) / 2  #평균가\n",
    "\n",
    "#print(high_prices)\n",
    "\n",
    "\n",
    "seq_len = 50 # 50개의 데이터를 이용해 > 다음을 예측\n",
    "sequence_length = seq_len + 1 # 그렇기때문에 51크기의 윈도우\n",
    "\n",
    "\n",
    "result = [] \n",
    "\n",
    "for index in range(len(mid_prices) - sequence_length): # 윈도우가 1칸씩 넘어가면서 만들어짐\n",
    "                                                       # 예) 8월 1일부터 50개 8월2일부터 50개 ...\n",
    "    result.append(mid_prices[index:index+ sequence_length])\n",
    "    \n",
    "print(np.array(result))\n",
    "\n",
    "\n",
    "normalized_data = [] \n",
    "\n",
    "for window in result:  # 현재일 - 전일 -1 을해서 정규화 \n",
    "    normalized_window = [((float(p)/float(window[0]))-1) for p in window]\n",
    "    normalized_data.append(normalized_window)\n",
    "    \n",
    "\n",
    "#print(normalized_data)\n",
    "\n",
    "result = np.array(normalized_data)\n",
    "\n",
    "print(result.shape)\n",
    "\n",
    "row = int(round(result.shape[0] * 0.9))\n",
    "train = result[:row , :]  # train 데이터는 9할의 자료\n",
    "np.random.shuffle(train) # shuffling\n",
    "\n",
    "x_train = train[:,:-1] # train 51개의 데이터중 앞선 50개의 데이터\n",
    "print(x_train.shape)\n",
    "x_train = np.reshape(x_train,(x_train.shape[0],x_train.shape[1],1))\n",
    "print(x_train.shape)\n",
    "y_train = train[:,-1] # train 의 51개중의 데이터중 마지막 데이터 51번째데이터\n",
    "\n",
    "x_test = result[row:,:-1] # 나머지 10%의 데이터로 테스트셋 구성\n",
    "print(x_test.shape[0],x_test.shape[1])\n",
    "x_test = np.reshape(x_test,(x_test.shape[0],x_test.shape[1],1))\n",
    "y_test = result[row:,-1]\n",
    "\n",
    "print(x_train.shape,x_test.shape,y_train.shape,y_test.shape)\n",
    "\n",
    "\n",
    "model = Sequential() # 모델생성\n",
    "\n",
    "model.add(LSTM(50,return_sequences=True, input_shape=(50,1)))  #순환신경망을 사용 앞의 50개 feature의 값을 사용해\n",
    "model.add(LSTM(64,return_sequences=False))                    #마지막 label을 예측해냄\n",
    "model.add(Dense(1,activation='relu'))\n",
    "model.compile(loss='mse', optimizer='adam') # 오차함수는 수치 예측 값이기 때문에 mean squared error \n",
    "\n",
    "print(model.summary()) # 모델의 구조 확인\n",
    "\n",
    "model.fit(x_train,y_train,\n",
    "          validation_data=(x_test,y_test),\n",
    "          batch_size=10,\n",
    "          epochs=3) # train data 를 fitting함\n",
    "\n"
   ]
  },
  {
   "cell_type": "code",
   "execution_count": 3,
   "metadata": {},
   "outputs": [
    {
     "data": {
      "image/png": "[encoded data removed]",
      "text/plain": [
       "<Figure size 432x288 with 1 Axes>"
      ]
     },
     "metadata": {},
     "output_type": "display_data"
    }
   ],
   "source": [
    "pred = model.predict(x_test) # x_test 의 결과 > 현재 모델링을 한 예측\n",
    "\n",
    "fig = plt.figure(facecolor='white')\n",
    "ax = fig.add_subplot(111)\n",
    "ax.plot(y_test,label='True') # 실제 그래프\n",
    "ax.plot(pred,label='Prediction') # 예측 그래프 \n",
    "ax.legend()\n",
    "plt.show()"
   ]
  },
  {
   "cell_type": "code",
   "execution_count": null,
   "metadata": {},
   "outputs": [],
   "source": []
  }
 ],
 "metadata": {
  "kernelspec": {
   "display_name": "Python 3",
   "language": "python",
   "name": "python3"
  },
  "language_info": {
   "codemirror_mode": {
    "name": "ipython",
    "version": 3
   },
   "file_extension": ".py",
   "mimetype": "text/x-python",
   "name": "python",
   "nbconvert_exporter": "python",
   "pygments_lexer": "ipython3",
   "version": "3.7.6"
  }
 },
 "nbformat": 4,
 "nbformat_minor": 4
}
